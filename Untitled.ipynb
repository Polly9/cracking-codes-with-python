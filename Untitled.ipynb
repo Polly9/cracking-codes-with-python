{
 "cells": [
  {
   "cell_type": "code",
   "execution_count": 39,
   "id": "b6aba882-2096-4d14-9ddd-130c45545bac",
   "metadata": {},
   "outputs": [],
   "source": [
    "text = 'There can keep a secret, if two of them are dead.'\n",
    "translate = ''"
   ]
  },
  {
   "cell_type": "code",
   "execution_count": 38,
   "id": "9d922768-d198-41a9-bed6-3a7e1334b356",
   "metadata": {},
   "outputs": [
    {
     "data": {
      "text/plain": [
       "'.daed era meht fo owt fi ,terces a peek nac erehT'"
      ]
     },
     "execution_count": 38,
     "metadata": {},
     "output_type": "execute_result"
    }
   ],
   "source": [
    "span = len(text)\n",
    "for i in range(span - 1, -1, -1):\n",
    "    translate += text[i]\n",
    "translate"
   ]
  },
  {
   "cell_type": "code",
   "execution_count": 44,
   "id": "2d82f946-afdc-4712-a4cc-cc55f1584c0d",
   "metadata": {},
   "outputs": [
    {
     "data": {
      "text/plain": [
       "'..daed era meht fo owt fi ,terces a peek nac erehT'"
      ]
     },
     "execution_count": 44,
     "metadata": {},
     "output_type": "execute_result"
    }
   ],
   "source": [
    "i = 0\n",
    "span = len(text) - 1\n",
    "while span >= 0:\n",
    "    translate += text[span]\n",
    "    i = i + 1\n",
    "    span = len(text) - i    \n",
    "translate"
   ]
  },
  {
   "cell_type": "code",
   "execution_count": 45,
   "id": "a88f4043-2fae-405e-9324-335123873e06",
   "metadata": {},
   "outputs": [
    {
     "name": "stdin",
     "output_type": "stream",
     "text": [
      " There are beautiful world.\n"
     ]
    }
   ],
   "source": [
    "text = input()"
   ]
  },
  {
   "cell_type": "code",
   "execution_count": 50,
   "id": "e15d6c53-1795-4191-a217-75fa1c19e070",
   "metadata": {},
   "outputs": [],
   "source": [
    "def reverse_cipher(text):\n",
    "    \"\"\"\n",
    "    入力した文字列を逆順で返す\n",
    "    \"\"\"\n",
    "    translated = ''\n",
    "    span = len(text)\n",
    "    for i in range(span - 1, -1, -1):\n",
    "        translated += text[i]\n",
    "    return translated"
   ]
  },
  {
   "cell_type": "code",
   "execution_count": 51,
   "id": "328c23cb-2184-4d61-b66c-77c65156744b",
   "metadata": {},
   "outputs": [
    {
     "name": "stdin",
     "output_type": "stream",
     "text": [
      " We are happy.\n"
     ]
    },
    {
     "data": {
      "text/plain": [
       "'.yppah era eW'"
      ]
     },
     "execution_count": 51,
     "metadata": {},
     "output_type": "execute_result"
    }
   ],
   "source": [
    "text = input()\n",
    "reverse_cipher(text)"
   ]
  },
  {
   "cell_type": "code",
   "execution_count": 55,
   "id": "3accfa2e-fee1-46e2-b59b-191cc2476418",
   "metadata": {},
   "outputs": [
    {
     "data": {
      "text/plain": [
       "'abcdefghijklmnopqrstuvwxyz'"
      ]
     },
     "execution_count": 55,
     "metadata": {},
     "output_type": "execute_result"
    }
   ],
   "source": [
    "import string\n",
    "string.ascii_lowercase"
   ]
  },
  {
   "cell_type": "code",
   "execution_count": null,
   "id": "ff74569f-0920-4741-9fe0-1bc34133a6f1",
   "metadata": {},
   "outputs": [],
   "source": []
  }
 ],
 "metadata": {
  "kernelspec": {
   "display_name": "Python 3",
   "language": "python",
   "name": "python3"
  },
  "language_info": {
   "codemirror_mode": {
    "name": "ipython",
    "version": 3
   },
   "file_extension": ".py",
   "mimetype": "text/x-python",
   "name": "python",
   "nbconvert_exporter": "python",
   "pygments_lexer": "ipython3",
   "version": "3.8.8"
  }
 },
 "nbformat": 4,
 "nbformat_minor": 5
}
